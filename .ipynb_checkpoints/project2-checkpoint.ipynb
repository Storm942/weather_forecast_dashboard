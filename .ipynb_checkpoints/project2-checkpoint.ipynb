{
 "cells": [
  {
   "cell_type": "code",
   "execution_count": 1,
   "id": "a772f685-7d0f-46e1-8909-71b7e29f0983",
   "metadata": {},
   "outputs": [
    {
     "name": "stdout",
     "output_type": "stream",
     "text": [
      "       Location            Date_Time  Temperature_C  Humidity_pct  \\\n",
      "0     San Diego  2024-01-14 21:12:46      10.683001     41.195754   \n",
      "1     San Diego  2024-05-17 15:22:10       8.734140     58.319107   \n",
      "2     San Diego  2024-05-11 09:30:59      11.632436     38.820175   \n",
      "3  Philadelphia  2024-02-26 17:32:39      -8.628976     54.074474   \n",
      "4   San Antonio  2024-04-29 13:23:51      39.808213     72.899908   \n",
      "\n",
      "   Precipitation_mm  Wind_Speed_kmh  \n",
      "0          4.020119        8.233540  \n",
      "1          9.111623       27.715161  \n",
      "2          4.607511       28.732951  \n",
      "3          3.183720       26.367303  \n",
      "4          9.598282       29.898622  \n"
     ]
    }
   ],
   "source": [
    "import pandas as pd\n",
    "\n",
    "# Load the dataset from the CSV file\n",
    "data = pd.read_csv('weather_data.csv')  # Replace with your actual file path\n",
    "\n",
    "# Check the first few rows to ensure it loaded correctly\n",
    "print(data.head())\n"
   ]
  },
  {
   "cell_type": "code",
   "execution_count": 3,
   "id": "2cf643d2-5234-4c94-b881-2627d387521d",
   "metadata": {},
   "outputs": [
    {
     "name": "stdout",
     "output_type": "stream",
     "text": [
      "Index(['Location', 'Date_Time', 'Temperature_C', 'Humidity_pct',\n",
      "       'Precipitation_mm', 'Wind_Speed_kmh'],\n",
      "      dtype='object')\n"
     ]
    }
   ],
   "source": [
    "print(data.columns)"
   ]
  },
  {
   "cell_type": "code",
   "execution_count": 4,
   "id": "de0d67be-8644-40ae-be76-95501b6ebfba",
   "metadata": {},
   "outputs": [
    {
     "name": "stdout",
     "output_type": "stream",
     "text": [
      "       Location            Date_Time  Temperature_C  Humidity_pct  \\\n",
      "0     San Diego  2024-01-14 21:12:46      10.683001     41.195754   \n",
      "1     San Diego  2024-05-17 15:22:10       8.734140     58.319107   \n",
      "2     San Diego  2024-05-11 09:30:59      11.632436     38.820175   \n",
      "3  Philadelphia  2024-02-26 17:32:39      -8.628976     54.074474   \n",
      "4   San Antonio  2024-04-29 13:23:51      39.808213     72.899908   \n",
      "\n",
      "   Precipitation_mm  Wind_Speed_kmh  \n",
      "0          4.020119        8.233540  \n",
      "1          9.111623       27.715161  \n",
      "2          4.607511       28.732951  \n",
      "3          3.183720       26.367303  \n",
      "4          9.598282       29.898622  \n"
     ]
    }
   ],
   "source": [
    "print(data.head())"
   ]
  },
  {
   "cell_type": "code",
   "execution_count": 6,
   "id": "b662e196-1472-4b5d-8e91-8a4e144fd980",
   "metadata": {},
   "outputs": [],
   "source": [
    "data.rename(columns={' _wspdm': 'AvgWindSpeed'}, inplace=True)\n",
    "target = 'AvgWindSpeed'"
   ]
  },
  {
   "cell_type": "code",
   "execution_count": 7,
   "id": "827de908-efe7-460a-9c81-f42302f69e8c",
   "metadata": {},
   "outputs": [
    {
     "name": "stdout",
     "output_type": "stream",
     "text": [
      "Index(['datetime_utc', ' _conds', ' _dewptm', ' _fog', ' _hail',\n",
      "       ' _heatindexm', ' _hum', ' _precipm', ' _pressurem', ' _rain', ' _snow',\n",
      "       ' _tempm', ' _thunder', ' _tornado', ' _vism', ' _wdird', ' _wdire',\n",
      "       ' _wgustm', ' _windchillm', 'AvgWindSpeed'],\n",
      "      dtype='object')\n"
     ]
    }
   ],
   "source": [
    "print(data.columns)"
   ]
  },
  {
   "cell_type": "code",
   "execution_count": null,
   "id": "04a107fb-7af2-42a9-9891-c634fd80efc5",
   "metadata": {},
   "outputs": [],
   "source": []
  }
 ],
 "metadata": {
  "kernelspec": {
   "display_name": "Python 3 (ipykernel)",
   "language": "python",
   "name": "python3"
  },
  "language_info": {
   "codemirror_mode": {
    "name": "ipython",
    "version": 3
   },
   "file_extension": ".py",
   "mimetype": "text/x-python",
   "name": "python",
   "nbconvert_exporter": "python",
   "pygments_lexer": "ipython3",
   "version": "3.12.6"
  }
 },
 "nbformat": 4,
 "nbformat_minor": 5
}
