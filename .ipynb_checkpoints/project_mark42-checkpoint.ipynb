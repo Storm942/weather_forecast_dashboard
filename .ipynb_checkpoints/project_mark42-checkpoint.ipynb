{
 "cells": [
  {
   "cell_type": "code",
   "execution_count": 1,
   "id": "eb4c11d0-ec62-4f6b-b80d-55ee854fd721",
   "metadata": {},
   "outputs": [
    {
     "name": "stdout",
     "output_type": "stream",
     "text": [
      "Collecting keras-tuner\n",
      "  Downloading keras_tuner-1.4.7-py3-none-any.whl.metadata (5.4 kB)\n",
      "Requirement already satisfied: keras in c:\\users\\sayan\\appdata\\local\\programs\\python\\python312\\lib\\site-packages (from keras-tuner) (3.5.0)\n",
      "Requirement already satisfied: packaging in c:\\users\\sayan\\appdata\\local\\programs\\python\\python312\\lib\\site-packages (from keras-tuner) (24.1)\n",
      "Requirement already satisfied: requests in c:\\users\\sayan\\appdata\\local\\programs\\python\\python312\\lib\\site-packages (from keras-tuner) (2.32.3)\n",
      "Collecting kt-legacy (from keras-tuner)\n",
      "  Downloading kt_legacy-1.0.5-py3-none-any.whl.metadata (221 bytes)\n",
      "Requirement already satisfied: absl-py in c:\\users\\sayan\\appdata\\local\\programs\\python\\python312\\lib\\site-packages (from keras->keras-tuner) (2.1.0)\n",
      "Requirement already satisfied: numpy in c:\\users\\sayan\\appdata\\local\\programs\\python\\python312\\lib\\site-packages (from keras->keras-tuner) (1.26.4)\n",
      "Requirement already satisfied: rich in c:\\users\\sayan\\appdata\\local\\programs\\python\\python312\\lib\\site-packages (from keras->keras-tuner) (13.9.1)\n",
      "Requirement already satisfied: namex in c:\\users\\sayan\\appdata\\local\\programs\\python\\python312\\lib\\site-packages (from keras->keras-tuner) (0.0.8)\n",
      "Requirement already satisfied: h5py in c:\\users\\sayan\\appdata\\local\\programs\\python\\python312\\lib\\site-packages (from keras->keras-tuner) (3.12.1)\n",
      "Requirement already satisfied: optree in c:\\users\\sayan\\appdata\\local\\programs\\python\\python312\\lib\\site-packages (from keras->keras-tuner) (0.12.1)\n",
      "Requirement already satisfied: ml-dtypes in c:\\users\\sayan\\appdata\\local\\programs\\python\\python312\\lib\\site-packages (from keras->keras-tuner) (0.4.1)\n",
      "Requirement already satisfied: charset-normalizer<4,>=2 in c:\\users\\sayan\\appdata\\local\\programs\\python\\python312\\lib\\site-packages (from requests->keras-tuner) (3.3.2)\n",
      "Requirement already satisfied: idna<4,>=2.5 in c:\\users\\sayan\\appdata\\local\\programs\\python\\python312\\lib\\site-packages (from requests->keras-tuner) (3.10)\n",
      "Requirement already satisfied: urllib3<3,>=1.21.1 in c:\\users\\sayan\\appdata\\local\\programs\\python\\python312\\lib\\site-packages (from requests->keras-tuner) (2.2.3)\n",
      "Requirement already satisfied: certifi>=2017.4.17 in c:\\users\\sayan\\appdata\\local\\programs\\python\\python312\\lib\\site-packages (from requests->keras-tuner) (2024.8.30)\n",
      "Requirement already satisfied: typing-extensions>=4.5.0 in c:\\users\\sayan\\appdata\\local\\programs\\python\\python312\\lib\\site-packages (from optree->keras->keras-tuner) (4.12.2)\n",
      "Requirement already satisfied: markdown-it-py>=2.2.0 in c:\\users\\sayan\\appdata\\local\\programs\\python\\python312\\lib\\site-packages (from rich->keras->keras-tuner) (3.0.0)\n",
      "Requirement already satisfied: pygments<3.0.0,>=2.13.0 in c:\\users\\sayan\\appdata\\local\\programs\\python\\python312\\lib\\site-packages (from rich->keras->keras-tuner) (2.18.0)\n",
      "Requirement already satisfied: mdurl~=0.1 in c:\\users\\sayan\\appdata\\local\\programs\\python\\python312\\lib\\site-packages (from markdown-it-py>=2.2.0->rich->keras->keras-tuner) (0.1.2)\n",
      "Downloading keras_tuner-1.4.7-py3-none-any.whl (129 kB)\n",
      "Downloading kt_legacy-1.0.5-py3-none-any.whl (9.6 kB)\n",
      "Installing collected packages: kt-legacy, keras-tuner\n",
      "Successfully installed keras-tuner-1.4.7 kt-legacy-1.0.5\n",
      "Note: you may need to restart the kernel to use updated packages.\n"
     ]
    },
    {
     "name": "stderr",
     "output_type": "stream",
     "text": [
      "\n",
      "[notice] A new release of pip is available: 24.2 -> 24.3.1\n",
      "[notice] To update, run: python.exe -m pip install --upgrade pip\n"
     ]
    }
   ],
   "source": [
    "pip install keras-tuner"
   ]
  },
  {
   "cell_type": "code",
   "execution_count": 9,
   "id": "7bab6e8e-7734-4c2d-9590-80d1e6fe3e0b",
   "metadata": {},
   "outputs": [
    {
     "name": "stdout",
     "output_type": "stream",
     "text": [
      "       Location            Date_Time  Temperature_C  Humidity_pct  \\\n",
      "0     San Diego  2024-01-14 21:12:46      10.683001     41.195754   \n",
      "1     San Diego  2024-05-17 15:22:10       8.734140     58.319107   \n",
      "2     San Diego  2024-05-11 09:30:59      11.632436     38.820175   \n",
      "3  Philadelphia  2024-02-26 17:32:39      -8.628976     54.074474   \n",
      "4   San Antonio  2024-04-29 13:23:51      39.808213     72.899908   \n",
      "\n",
      "   Precipitation_mm  Wind_Speed_kmh  \n",
      "0          4.020119        8.233540  \n",
      "1          9.111623       27.715161  \n",
      "2          4.607511       28.732951  \n",
      "3          3.183720       26.367303  \n",
      "4          9.598282       29.898622  \n"
     ]
    }
   ],
   "source": [
    "import pandas as pd\n",
    "\n",
    "# Load the dataset from the CSV file\n",
    "data = pd.read_csv('weather_data.csv')  # Replace with your actual file path\n",
    "\n",
    "# Check the first few rows to ensure it loaded correctly\n",
    "print(data.head())"
   ]
  },
  {
   "cell_type": "code",
   "execution_count": 10,
   "id": "aeacebf8-6e4e-44ab-ac4e-5d5deb168628",
   "metadata": {},
   "outputs": [
    {
     "name": "stdout",
     "output_type": "stream",
     "text": [
      "Index(['Location', 'Date_Time', 'Temperature_C', 'Humidity_pct',\n",
      "       'Precipitation_mm', 'Wind_Speed_kmh'],\n",
      "      dtype='object')\n"
     ]
    }
   ],
   "source": [
    "# Clean column names by removing leading/trailing spaces and replacing multiple spaces\n",
    "data.columns = data.columns.str.strip().str.replace(r'\\s+', ' ', regex=True)\n",
    "\n",
    "# Verify cleaned column names\n",
    "print(data.columns)\n"
   ]
  },
  {
   "cell_type": "code",
   "execution_count": 13,
   "id": "fcc44665-a63e-4390-b6b4-7b62f4b242a0",
   "metadata": {},
   "outputs": [],
   "source": [
    "import pandas as pd\n",
    "import numpy as np\n",
    "import matplotlib.pyplot as plt\n",
    "from sklearn.model_selection import train_test_split\n",
    "from sklearn.preprocessing import StandardScaler\n",
    "import keras_tuner as kt\n",
    "from keras import layers\n",
    "from keras.models import Sequential\n",
    "from keras.optimizers import Adam\n",
    "\n"
   ]
  },
  {
   "cell_type": "code",
   "execution_count": 14,
   "id": "7c837a80-1b7c-49c1-8266-3580b91a0b1d",
   "metadata": {},
   "outputs": [
    {
     "name": "stdout",
     "output_type": "stream",
     "text": [
      "Location            0\n",
      "Temperature_C       0\n",
      "Humidity_pct        0\n",
      "Precipitation_mm    0\n",
      "Wind_Speed_kmh      0\n",
      "dtype: int64\n"
     ]
    }
   ],
   "source": [
    "# Load the dataset (update path to your CSV file)\n",
    "data = pd.read_csv('weather_data.csv')\n",
    "\n",
    "# Convert 'Date_Time' to datetime format\n",
    "data['Date_Time'] = pd.to_datetime(data['Date_Time'])\n",
    "\n",
    "# Set 'Date_Time' as index\n",
    "data.set_index('Date_Time', inplace=True)\n",
    "\n",
    "# Check for any missing values\n",
    "print(data.isnull().sum())\n",
    "\n",
    "# Drop missing values\n",
    "data.dropna(inplace=True)\n",
    "\n",
    "# Feature Engineering (Optional)\n",
    "data['Hour'] = data.index.hour\n",
    "data['Day'] = data.index.day\n",
    "data['Month'] = data.index.month\n",
    "\n",
    "# Select features (X) and target (y)\n",
    "features = ['Humidity_pct', 'Precipitation_mm', 'Wind_Speed_kmh', 'Hour', 'Day', 'Month']\n",
    "target = 'Temperature_C'\n",
    "\n",
    "X = data[features].values\n",
    "y = data[target].values\n"
   ]
  },
  {
   "cell_type": "code",
   "execution_count": 15,
   "id": "32f58cf2-096a-45b7-ae3b-7a12025a0ab1",
   "metadata": {},
   "outputs": [],
   "source": [
    "# Scale the features\n",
    "scaler = StandardScaler()\n",
    "X_scaled = scaler.fit_transform(X)\n"
   ]
  },
  {
   "cell_type": "code",
   "execution_count": 16,
   "id": "ef565189-6503-4824-8c92-9af5a38faec1",
   "metadata": {},
   "outputs": [],
   "source": [
    "# Split data into training and testing sets\n",
    "X_train, X_test, y_train, y_test = train_test_split(X_scaled, y, test_size=0.2, shuffle=False)\n"
   ]
  },
  {
   "cell_type": "code",
   "execution_count": 17,
   "id": "59d099cd-daa7-41dc-8464-299967f6043b",
   "metadata": {},
   "outputs": [],
   "source": [
    "# Define a model-building function for Keras Tuner\n",
    "def build_model(hp):\n",
    "    model = Sequential()\n",
    "\n",
    "    # Add layers dynamically based on hyperparameters\n",
    "    model.add(layers.InputLayer(input_shape=(X_scaled.shape[1],)))\n",
    "\n",
    "    # Hyperparameter for the number of hidden layers\n",
    "    for i in range(hp.Int('num_layers', 1, 3)):\n",
    "        model.add(layers.Dense(units=hp.Int(f'units_{i}', min_value=32, max_value=128, step=32), activation='relu'))\n",
    "\n",
    "    # Output layer\n",
    "    model.add(layers.Dense(1))\n",
    "\n",
    "    # Hyperparameter for learning rate\n",
    "    model.compile(\n",
    "        optimizer=Adam(learning_rate=hp.Float('learning_rate', min_value=1e-5, max_value=1e-2, sampling='LOG')),\n",
    "        loss='mse',\n",
    "        metrics=['mae']\n",
    "    )\n",
    "    return model\n"
   ]
  },
  {
   "cell_type": "code",
   "execution_count": 18,
   "id": "24344927-edce-4a53-99c2-e40d9697e0d5",
   "metadata": {},
   "outputs": [
    {
     "name": "stdout",
     "output_type": "stream",
     "text": [
      "Trial 10 Complete [00h 15m 36s]\n",
      "val_loss: 209.1726837158203\n",
      "\n",
      "Best val_loss So Far: 209.14236450195312\n",
      "Total elapsed time: 03h 10m 28s\n"
     ]
    }
   ],
   "source": [
    "# Initialize Keras Tuner with RandomSearch\n",
    "tuner = kt.RandomSearch(\n",
    "    build_model,\n",
    "    objective='val_loss',  # We are optimizing for the validation loss\n",
    "    max_trials=10,  # Maximum number of trials to search\n",
    "    executions_per_trial=1,\n",
    "    directory='tuner_dir',\n",
    "    project_name='weather_forecast'\n",
    ")\n",
    "\n",
    "# Perform hyperparameter search\n",
    "tuner.search(X_train, y_train, epochs=50, batch_size=32, validation_split=0.2)\n"
   ]
  },
  {
   "cell_type": "code",
   "execution_count": 19,
   "id": "5245a3ae-aa56-4706-87e7-652678189dda",
   "metadata": {},
   "outputs": [
    {
     "name": "stderr",
     "output_type": "stream",
     "text": [
      "C:\\Users\\Sayan\\AppData\\Local\\Programs\\Python\\Python312\\Lib\\site-packages\\keras\\src\\saving\\saving_lib.py:713: UserWarning: Skipping variable loading for optimizer 'adam', because it has 2 variables whereas the saved optimizer has 14 variables. \n",
      "  saveable.load_own_variables(weights_store.get(inner_path))\n"
     ]
    }
   ],
   "source": [
    "# Get the best model from Keras Tuner\n",
    "best_model = tuner.get_best_models(num_models=1)[0]"
   ]
  },
  {
   "cell_type": "code",
   "execution_count": 20,
   "id": "a3708bf9-04aa-463f-9451-86de9517bf04",
   "metadata": {},
   "outputs": [
    {
     "name": "stdout",
     "output_type": "stream",
     "text": [
      "\u001b[1m6250/6250\u001b[0m \u001b[32m━━━━━━━━━━━━━━━━━━━━\u001b[0m\u001b[37m\u001b[0m \u001b[1m8s\u001b[0m 1ms/step - loss: 209.4180 - mae: 12.5205\n",
      "Test Loss: 209.66342163085938, Test MAE: 12.529252052307129\n"
     ]
    }
   ],
   "source": [
    "# Evaluate the best model on the test set\n",
    "test_loss, test_mae = best_model.evaluate(X_test, y_test)\n",
    "print(f\"Test Loss: {test_loss}, Test MAE: {test_mae}\")"
   ]
  },
  {
   "cell_type": "code",
   "execution_count": 21,
   "id": "3f26ff42-ef15-41bb-898b-4ccd0e01e78a",
   "metadata": {},
   "outputs": [
    {
     "name": "stdout",
     "output_type": "stream",
     "text": [
      "\u001b[1m6250/6250\u001b[0m \u001b[32m━━━━━━━━━━━━━━━━━━━━\u001b[0m\u001b[37m\u001b[0m \u001b[1m8s\u001b[0m 1ms/step\n"
     ]
    },
    {
     "data": {
      "image/png": "[encoded data removed]",
      "text/plain": [
       "<Figure size 1000x600 with 1 Axes>"
      ]
     },
     "metadata": {},
     "output_type": "display_data"
    }
   ],
   "source": [
    "# Make predictions on the test set\n",
    "y_pred = best_model.predict(X_test)\n",
    "\n",
    "# Plot Actual vs Predicted Temperature\n",
    "plt.figure(figsize=(10, 6))\n",
    "plt.plot(y_test, label='Actual Temperature')\n",
    "plt.plot(y_pred, label='Predicted Temperature', linestyle='dashed')\n",
    "plt.title('Actual vs Predicted Temperature')\n",
    "plt.legend()\n",
    "plt.show()\n"
   ]
  },
  {
   "cell_type": "code",
   "execution_count": 23,
   "id": "01f32bed-4835-4b5e-b241-86a1e529cb79",
   "metadata": {},
   "outputs": [],
   "source": [
    "\n",
    "# Save the best model in the native Keras format\n",
    "best_model.save('best_weather_model.keras')\n",
    "\n"
   ]
  },
  {
   "cell_type": "code",
   "execution_count": null,
   "id": "47988062-1773-45b6-9b28-9f97c936d2f6",
   "metadata": {},
   "outputs": [],
   "source": []
  }
 ],
 "metadata": {
  "kernelspec": {
   "display_name": "Python 3 (ipykernel)",
   "language": "python",
   "name": "python3"
  },
  "language_info": {
   "codemirror_mode": {
    "name": "ipython",
    "version": 3
   },
   "file_extension": ".py",
   "mimetype": "text/x-python",
   "name": "python",
   "nbconvert_exporter": "python",
   "pygments_lexer": "ipython3",
   "version": "3.12.6"
  }
 },
 "nbformat": 4,
 "nbformat_minor": 5
}
