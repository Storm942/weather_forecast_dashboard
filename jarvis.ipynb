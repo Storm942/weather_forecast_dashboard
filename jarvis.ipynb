{
 "cells": [
  {
   "cell_type": "code",
   "execution_count": 1,
   "id": "72f0e602-e1ea-4fa6-9270-17a5f947009f",
   "metadata": {},
   "outputs": [],
   "source": [
    "import joblib\n",
    "import pandas as pd\n",
    "import numpy as np\n",
    "import matplotlib.pyplot as plt\n",
    "from tensorflow.keras.models import load_model\n",
    "from sklearn.preprocessing import MinMaxScaler\n",
    "from sklearn.metrics import mean_squared_error, r2_score\n",
    "from sklearn.model_selection import train_test_split\n"
   ]
  },
  {
   "cell_type": "code",
   "execution_count": 2,
   "id": "f0401c75-9648-4702-a9c0-d8f7ce8bb2a3",
   "metadata": {},
   "outputs": [
    {
     "name": "stdout",
     "output_type": "stream",
     "text": [
      "[[0.51113501 0.18659585 0.26851618 0.27445036]\n",
      " [0.47863725 0.47198523 0.6085943  0.92383941]\n",
      " [0.52696708 0.14700285 0.30775004 0.95776584]\n",
      " [0.18910294 0.4012413  0.21265038 0.87891068]\n",
      " [0.99680523 0.7149987  0.64109981 0.99662162]]\n"
     ]
    }
   ],
   "source": [
    "# Load the dataset\n",
    "data = pd.read_csv('weather_data.csv')  # Replace with your dataset path\n",
    "data['Date_Time'] = pd.to_datetime(data['Date_Time'])\n",
    "data.set_index('Date_Time', inplace=True)\n",
    "\n",
    "# Select features for model prediction\n",
    "features = ['Temperature_C', 'Humidity_pct', 'Precipitation_mm', 'Wind_Speed_kmh']\n",
    "data = data[features]\n",
    "\n",
    "# Load the previously saved scaler\n",
    "scaler = joblib.load('scaler.pkl')\n",
    "\n",
    "# Scale the new data (use transform instead of fit_transform)\n",
    "scaled_data = scaler.transform(data)\n",
    "\n",
    "# Display a snippet of the scaled data\n",
    "print(scaled_data[:5])\n"
   ]
  },
  {
   "cell_type": "code",
   "execution_count": 3,
   "id": "644c0d87-9b67-4f59-aa80-8e47430c1ed0",
   "metadata": {},
   "outputs": [
    {
     "name": "stdout",
     "output_type": "stream",
     "text": [
      "Model and scaler loaded successfully!\n"
     ]
    },
    {
     "name": "stderr",
     "output_type": "stream",
     "text": [
      "C:\\Users\\Sayan\\AppData\\Local\\Programs\\Python\\Python312\\Lib\\site-packages\\keras\\src\\saving\\saving_lib.py:713: UserWarning: Skipping variable loading for optimizer 'adam', because it has 18 variables whereas the saved optimizer has 2 variables. \n",
      "  saveable.load_own_variables(weights_store.get(inner_path))\n"
     ]
    }
   ],
   "source": [
    "# Load the saved model\n",
    "model = load_model('weather_forecast_model_new.keras')\n",
    "\n",
    "print(\"Model and scaler loaded successfully!\")\n"
   ]
  },
  {
   "cell_type": "code",
   "execution_count": 4,
   "id": "f4847eb6-816c-45cd-a523-97973db31dcd",
   "metadata": {},
   "outputs": [],
   "source": [
    "def forecast_with_uncertainty(model, data, scaler, look_back, forecast_horizon, n_simulations=100):\n",
    "    predictions = []\n",
    "    input_seq = data[-look_back:, :]\n",
    "    \n",
    "    for _ in range(forecast_horizon):\n",
    "        input_seq_reshaped = input_seq.reshape(1, look_back, len(features))\n",
    "        simulated_preds = []\n",
    "        \n",
    "        # Run multiple simulations for uncertainty\n",
    "        for _ in range(n_simulations):\n",
    "            pred = model.predict(input_seq_reshaped, verbose=0)\n",
    "            simulated_preds.append(pred[0, 0])\n",
    "        \n",
    "        # Calculate mean and standard deviation\n",
    "        mean_pred = np.mean(simulated_preds)\n",
    "        std_pred = np.std(simulated_preds)\n",
    "        \n",
    "        predictions.append((mean_pred, std_pred))\n",
    "        \n",
    "        # Update the input sequence\n",
    "        next_input = np.append(mean_pred, input_seq[-1, 1:]).reshape(1, -1)\n",
    "        input_seq = np.vstack([input_seq[1:], next_input])\n",
    "    \n",
    "    # Rescale predictions\n",
    "    predictions_rescaled = scaler.inverse_transform(\n",
    "        np.c_[[p[0] for p in predictions], np.zeros((len(predictions), len(features)-1))]\n",
    "    )[:, 0]\n",
    "    \n",
    "    intervals = [1.96 * p[1] for p in predictions]  # 95% Confidence Interval\n",
    "    return predictions_rescaled, intervals\n"
   ]
  },
  {
   "cell_type": "code",
   "execution_count": 5,
   "id": "7cacc891-ae04-4893-99aa-f78dfdc5fa26",
   "metadata": {},
   "outputs": [],
   "source": [
    "def plot_forecast(future_predictions, confidence_intervals, future_days):\n",
    "    \"\"\"\n",
    "    Plots the temperature forecast for the next 'future_days' days along with the confidence interval.\n",
    "    \n",
    "    Parameters:\n",
    "        future_predictions (list or np.array): Forecasted temperature values for the next 'future_days' days.\n",
    "        confidence_intervals (list or np.array): The corresponding confidence intervals for the forecast.\n",
    "        future_days (int): The number of future days for which the forecast is made.\n",
    "    \"\"\"\n",
    "    plt.figure(figsize=(8, 4))\n",
    "    \n",
    "    # Plot the future predictions\n",
    "    plt.plot(range(1, future_days + 1), future_predictions, marker='o', color='red', label='Future Predictions')\n",
    "    \n",
    "    # Plot the confidence intervals\n",
    "    plt.fill_between(range(1, future_days + 1),\n",
    "                     future_predictions - confidence_intervals,\n",
    "                     future_predictions + confidence_intervals,\n",
    "                     color='gray', alpha=0.3, label='Confidence Interval')\n",
    "    \n",
    "    # Add title, labels, and legend\n",
    "    plt.title(f'Temperature Forecast for the Next {future_days} Days')\n",
    "    plt.xlabel('Days Ahead')\n",
    "    plt.ylabel('Temperature (°C)')\n",
    "    plt.legend()\n",
    "    \n",
    "    # Show the plot\n",
    "    plt.show()\n"
   ]
  },
  {
   "cell_type": "code",
   "execution_count": 8,
   "id": "cbc2b85e-d0c8-43ef-878c-40d17fc17d17",
   "metadata": {},
   "outputs": [
    {
     "data": {
      "image/png": "[encoded data removed]",
      "text/plain": [
       "<Figure size 800x400 with 1 Axes>"
      ]
     },
     "metadata": {},
     "output_type": "display_data"
    }
   ],
   "source": [
    "# Predict and plot for the next 7 days\n",
    "future_days = 7\n",
    "future_predictions, confidence_intervals = forecast_with_uncertainty(\n",
    "    model, scaled_data, scaler, look_back=7, forecast_horizon=future_days\n",
    ")\n",
    "\n",
    "# Plot the predictions with confidence intervals\n",
    "plot_forecast(future_predictions, confidence_intervals, future_days)\n"
   ]
  },
  {
   "cell_type": "code",
   "execution_count": 7,
   "id": "64ce0f11-1e8f-41b9-ac4f-8bc0fd91a1a3",
   "metadata": {},
   "outputs": [
    {
     "name": "stdout",
     "output_type": "stream",
     "text": [
      "\u001b[1m6250/6250\u001b[0m \u001b[32m━━━━━━━━━━━━━━━━━━━━\u001b[0m\u001b[37m\u001b[0m \u001b[1m18s\u001b[0m 3ms/step\n",
      "RMSE: 14.48909315193003\n",
      "R²: -1.0805232559807365e-06\n"
     ]
    }
   ],
   "source": [
    "# Function to create sequences\n",
    "def create_sequences(data, look_back, forecast_horizon=1):\n",
    "    X, y = [], []\n",
    "    for i in range(len(data) - look_back - forecast_horizon + 1):\n",
    "        X.append(data[i:i + look_back, :])\n",
    "        y.append(data[i + look_back:i + look_back + forecast_horizon, 0])  # Forecast the temperature\n",
    "    return np.array(X), np.array(y)\n",
    "\n",
    "# Create sequences for training/testing\n",
    "look_back = 7  # Using 7 days of data for prediction\n",
    "forecast_horizon = 5  # Predict the next 5 days\n",
    "X, y = create_sequences(scaled_data, look_back, forecast_horizon)\n",
    "\n",
    "# Split into training and testing sets\n",
    "X_train, X_test, y_train, y_test = train_test_split(X, y, test_size=0.2, shuffle=False)\n",
    "\n",
    "# Make predictions on the test data\n",
    "y_pred = model.predict(X_test)\n",
    "\n",
    "# Rescale predictions and actual values\n",
    "y_pred_rescaled = scaler.inverse_transform(\n",
    "    np.c_[y_pred[:, 0], np.zeros((len(y_pred), len(features)-1))]\n",
    ")[:, 0]\n",
    "\n",
    "y_test_rescaled = scaler.inverse_transform(\n",
    "    np.c_[y_test[:, 0], np.zeros((len(y_test), len(features)-1))]\n",
    ")[:, 0]\n",
    "\n",
    "# Evaluate model performance\n",
    "rmse = np.sqrt(mean_squared_error(y_test_rescaled, y_pred_rescaled))\n",
    "r2 = r2_score(y_test_rescaled, y_pred_rescaled)\n",
    "\n",
    "print(f\"RMSE: {rmse}\")\n",
    "print(f\"R²: {r2}\")\n"
   ]
  },
  {
   "cell_type": "code",
   "execution_count": null,
   "id": "df8b35df-6ece-4390-91c5-45fc62b96546",
   "metadata": {},
   "outputs": [],
   "source": [
    "\n"
   ]
  }
 ],
 "metadata": {
  "kernelspec": {
   "display_name": "Python 3 (ipykernel)",
   "language": "python",
   "name": "python3"
  },
  "language_info": {
   "codemirror_mode": {
    "name": "ipython",
    "version": 3
   },
   "file_extension": ".py",
   "mimetype": "text/x-python",
   "name": "python",
   "nbconvert_exporter": "python",
   "pygments_lexer": "ipython3",
   "version": "3.12.6"
  }
 },
 "nbformat": 4,
 "nbformat_minor": 5
}
